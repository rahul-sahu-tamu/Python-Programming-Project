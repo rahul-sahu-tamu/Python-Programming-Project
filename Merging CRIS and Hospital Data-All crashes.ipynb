{
 "cells": [
  {
   "cell_type": "code",
   "execution_count": 46,
   "id": "37edf592",
   "metadata": {},
   "outputs": [],
   "source": [
    "import pandas as pd\n",
    "import numpy as np"
   ]
  },
  {
   "cell_type": "code",
   "execution_count": 47,
   "id": "516a6ce9",
   "metadata": {},
   "outputs": [],
   "source": [
    "cris_data=pd.read_csv(\"cris-data-crash-all-imp-var.csv\")\n",
    "hospital_data=pd.read_csv(\"hospital_data_results_imp_var.csv\")\n",
    "cris_data[\"crash_id_hosp\"]=str(0)\n",
    "#cris_data[\"Drvr_Zip\"].fillna(0,inplace=True)"
   ]
  },
  {
   "cell_type": "code",
   "execution_count": 48,
   "id": "330d4669",
   "metadata": {},
   "outputs": [
    {
     "data": {
      "text/plain": [
       "231"
      ]
     },
     "execution_count": 48,
     "metadata": {},
     "output_type": "execute_result"
    }
   ],
   "source": [
    "cris_data[\"Prsn_Age\"].isna().sum()"
   ]
  },
  {
   "cell_type": "code",
   "execution_count": 49,
   "id": "21d6ebbe",
   "metadata": {},
   "outputs": [],
   "source": [
    "cris_data[\"Prsn_Age\"].fillna(0,inplace=True)"
   ]
  },
  {
   "cell_type": "code",
   "execution_count": 50,
   "id": "c67e2ee9",
   "metadata": {},
   "outputs": [
    {
     "data": {
      "text/plain": [
       "0"
      ]
     },
     "execution_count": 50,
     "metadata": {},
     "output_type": "execute_result"
    }
   ],
   "source": [
    "cris_data[\"Prsn_Age\"].isna().sum()"
   ]
  },
  {
   "cell_type": "code",
   "execution_count": 51,
   "id": "17c847a3",
   "metadata": {},
   "outputs": [
    {
     "data": {
      "text/plain": [
       "12"
      ]
     },
     "execution_count": 51,
     "metadata": {},
     "output_type": "execute_result"
    }
   ],
   "source": [
    "cris_data[\"Prsn_Ethnicity_ID\"].isna().sum()"
   ]
  },
  {
   "cell_type": "code",
   "execution_count": 52,
   "id": "66eca1bf",
   "metadata": {},
   "outputs": [],
   "source": [
    "cris_data[\"Prsn_Ethnicity_ID\"].fillna(0,inplace=True)"
   ]
  },
  {
   "cell_type": "code",
   "execution_count": 43,
   "id": "2de3ee54",
   "metadata": {},
   "outputs": [
    {
     "data": {
      "text/plain": [
       "0"
      ]
     },
     "execution_count": 43,
     "metadata": {},
     "output_type": "execute_result"
    }
   ],
   "source": [
    "cris_data[\"Prsn_Ethnicity_ID\"].isna().sum()"
   ]
  },
  {
   "cell_type": "code",
   "execution_count": 33,
   "id": "f4374b97",
   "metadata": {},
   "outputs": [
    {
     "data": {
      "text/plain": [
       "0"
      ]
     },
     "execution_count": 33,
     "metadata": {},
     "output_type": "execute_result"
    }
   ],
   "source": [
    "cris_data[\"Prsn_Gndr_ID\"].isna().sum()"
   ]
  },
  {
   "cell_type": "code",
   "execution_count": 85,
   "id": "77c1f6bf",
   "metadata": {},
   "outputs": [
    {
     "data": {
      "text/plain": [
       "0"
      ]
     },
     "execution_count": 85,
     "metadata": {},
     "output_type": "execute_result"
    }
   ],
   "source": [
    "cris_data[\"Drvr_Zip\"].isna().sum()"
   ]
  },
  {
   "cell_type": "code",
   "execution_count": 86,
   "id": "9a7c857e",
   "metadata": {},
   "outputs": [
    {
     "data": {
      "text/plain": [
       "0"
      ]
     },
     "execution_count": 86,
     "metadata": {},
     "output_type": "execute_result"
    }
   ],
   "source": [
    "hospital_data[\"AGE\"].isna().sum()"
   ]
  },
  {
   "cell_type": "code",
   "execution_count": 87,
   "id": "d1a279c5",
   "metadata": {},
   "outputs": [
    {
     "data": {
      "text/plain": [
       "0"
      ]
     },
     "execution_count": 87,
     "metadata": {},
     "output_type": "execute_result"
    }
   ],
   "source": [
    "hospital_data[\"Gender\"].isna().sum()"
   ]
  },
  {
   "cell_type": "code",
   "execution_count": 88,
   "id": "1a2bf18d",
   "metadata": {},
   "outputs": [
    {
     "data": {
      "text/plain": [
       "0"
      ]
     },
     "execution_count": 88,
     "metadata": {},
     "output_type": "execute_result"
    }
   ],
   "source": [
    "hospital_data[\"prsn_ethnicity_id\"].isna().sum()"
   ]
  },
  {
   "cell_type": "code",
   "execution_count": 89,
   "id": "50c2674f",
   "metadata": {},
   "outputs": [
    {
     "data": {
      "text/plain": [
       "0"
      ]
     },
     "execution_count": 89,
     "metadata": {},
     "output_type": "execute_result"
    }
   ],
   "source": [
    "hospital_data[\"Arrival\"].isna().sum()"
   ]
  },
  {
   "cell_type": "code",
   "execution_count": 90,
   "id": "ac1d1ce8",
   "metadata": {},
   "outputs": [
    {
     "data": {
      "text/plain": [
       "0"
      ]
     },
     "execution_count": 90,
     "metadata": {},
     "output_type": "execute_result"
    }
   ],
   "source": [
    "hospital_data[\"Zip Code\"].isna().sum()"
   ]
  },
  {
   "cell_type": "code",
   "execution_count": 60,
   "id": "02e8b51c",
   "metadata": {},
   "outputs": [
    {
     "data": {
      "text/html": [
       "<div>\n",
       "<style scoped>\n",
       "    .dataframe tbody tr th:only-of-type {\n",
       "        vertical-align: middle;\n",
       "    }\n",
       "\n",
       "    .dataframe tbody tr th {\n",
       "        vertical-align: top;\n",
       "    }\n",
       "\n",
       "    .dataframe thead th {\n",
       "        text-align: right;\n",
       "    }\n",
       "</style>\n",
       "<table border=\"1\" class=\"dataframe\">\n",
       "  <thead>\n",
       "    <tr style=\"text-align: right;\">\n",
       "      <th></th>\n",
       "      <th>num_id</th>\n",
       "      <th>Crash_ID</th>\n",
       "      <th>Unit_Nbr</th>\n",
       "      <th>Prsn_Nbr</th>\n",
       "      <th>Prsn_Age</th>\n",
       "      <th>Prsn_Ethnicity_ID</th>\n",
       "      <th>Prsn_Gndr_ID</th>\n",
       "      <th>Drvr_Zip</th>\n",
       "      <th>Crash_Date</th>\n",
       "      <th>Crash_Date1</th>\n",
       "      <th>Crash_Date2</th>\n",
       "      <th>Crash_Date3</th>\n",
       "      <th>Crash_Date4</th>\n",
       "      <th>Crash_Date5</th>\n",
       "      <th>Crash_Date6</th>\n",
       "      <th>crash_id_hosp</th>\n",
       "    </tr>\n",
       "  </thead>\n",
       "  <tbody>\n",
       "    <tr>\n",
       "      <th>1</th>\n",
       "      <td>2</td>\n",
       "      <td>16336766</td>\n",
       "      <td>2</td>\n",
       "      <td>1</td>\n",
       "      <td>28.0</td>\n",
       "      <td>1.0</td>\n",
       "      <td>1</td>\n",
       "      <td>78751</td>\n",
       "      <td>4/2/2018</td>\n",
       "      <td>4/3/2018</td>\n",
       "      <td>4/4/2018</td>\n",
       "      <td>4/5/2018</td>\n",
       "      <td>4/6/2018</td>\n",
       "      <td>4/7/2018</td>\n",
       "      <td>4/8/2018</td>\n",
       "      <td>0</td>\n",
       "    </tr>\n",
       "  </tbody>\n",
       "</table>\n",
       "</div>"
      ],
      "text/plain": [
       "   num_id  Crash_ID  Unit_Nbr  Prsn_Nbr  Prsn_Age  Prsn_Ethnicity_ID  \\\n",
       "1       2  16336766         2         1      28.0                1.0   \n",
       "\n",
       "   Prsn_Gndr_ID Drvr_Zip Crash_Date Crash_Date1 Crash_Date2 Crash_Date3  \\\n",
       "1             1    78751   4/2/2018    4/3/2018    4/4/2018    4/5/2018   \n",
       "\n",
       "  Crash_Date4 Crash_Date5 Crash_Date6 crash_id_hosp  \n",
       "1    4/6/2018    4/7/2018    4/8/2018             0  "
      ]
     },
     "execution_count": 60,
     "metadata": {},
     "output_type": "execute_result"
    }
   ],
   "source": [
    "cris_data.iloc[[1]]"
   ]
  },
  {
   "cell_type": "code",
   "execution_count": 44,
   "id": "f3e7ed99",
   "metadata": {},
   "outputs": [
    {
     "name": "stderr",
     "output_type": "stream",
     "text": [
      "C:\\Users\\R-Sahu\\AppData\\Local\\Temp/ipykernel_23920/521969598.py:9: SettingWithCopyWarning: \n",
      "A value is trying to be set on a copy of a slice from a DataFrame\n",
      "\n",
      "See the caveats in the documentation: https://pandas.pydata.org/pandas-docs/stable/user_guide/indexing.html#returning-a-view-versus-a-copy\n",
      "  cris_data[\"crash_id_hosp\"][i]=str(hospital_data[\"crash_id_hosp\"][j])\n"
     ]
    },
    {
     "name": "stdout",
     "output_type": "stream",
     "text": [
      "Found Match in 16564134 and 5\n",
      "Found Match in 16568559 and 6\n",
      "Found Match in 16607264 and 6\n",
      "Found Match in 16663022 and 17\n",
      "Found Match in 16663022 and 14\n",
      "Found Match in 16670536 and 18\n",
      "Found Match in 16675280 and 17\n",
      "Found Match in 16675303 and 16\n",
      "Found Match in 16688587 and 18\n",
      "Found Match in 16703700 and 29\n",
      "Found Match in 16707190 and 30\n",
      "Found Match in 16708146 and 30\n",
      "Found Match in 16716061 and 30\n",
      "Found Match in 16750594 and 40\n",
      "Found Match in 16786738 and 49\n",
      "Found Match in 16797319 and 49\n",
      "Found Match in 16814701 and 50\n",
      "Found Match in 16871254 and 60\n",
      "Found Match in 16876500 and 61\n",
      "Found Match in 16906810 and 65\n",
      "Found Match in 16906987 and 65\n",
      "Found Match in 16946178 and 74\n",
      "Found Match in 16950088 and 74\n",
      "Found Match in 16992161 and 80\n",
      "Found Match in 17001223 and 88\n",
      "Found Match in 17017159 and 86\n",
      "Found Match in 17038764 and 96\n",
      "Found Match in 17038764 and 96\n",
      "Found Match in 17052210 and 87\n",
      "Found Match in 17067928 and 98\n",
      "Found Match in 17092301 and 105\n",
      "Found Match in 17098390 and 104\n",
      "Found Match in 17132129 and 112\n",
      "Found Match in 17193485 and 118\n",
      "Found Match in 17210671 and 120\n",
      "Found Match in 17241428 and 124\n",
      "Found Match in 17244494 and 124\n",
      "Found Match in 17248266 and 121\n",
      "Found Match in 17253867 and 125\n",
      "Found Match in 17254221 and 125\n",
      "Found Match in 17283476 and 128\n",
      "Found Match in 17283476 and 130\n",
      "Found Match in 17290529 and 129\n",
      "Found Match in 17307369 and 135\n",
      "Found Match in 17307372 and 136\n",
      "Found Match in 17309088 and 135\n",
      "Found Match in 17316284 and 137\n",
      "Found Match in 17316825 and 137\n",
      "Found Match in 17318102 and 142\n",
      "Found Match in 17330293 and 141\n",
      "Found Match in 17337327 and 146\n",
      "Found Match in 17337327 and 145\n",
      "Found Match in 17351327 and 150\n",
      "Found Match in 17364375 and 142\n",
      "Found Match in 17385170 and 157\n",
      "Found Match in 17403319 and 159\n",
      "Found Match in 17403377 and 159\n",
      "Found Match in 17403379 and 159\n",
      "Found Match in 17460470 and 166\n",
      "Found Match in 17487701 and 170\n",
      "Found Match in 17534712 and 174\n",
      "Found Match in 17626326 and 187\n",
      "Found Match in 17693417 and 191\n",
      "Found Match in 17715421 and 192\n",
      "Found Match in 17726597 and 195\n",
      "Found Match in 17786935 and 203\n",
      "Found Match in 17838207 and 206\n",
      "Found Match in 17862338 and 214\n",
      "Found Match in 17862338 and 214\n",
      "Found Match in 17937053 and 212\n",
      "Found Match in 17937197 and 222\n",
      "Found Match in 17946306 and 218\n",
      "Found Match in 17959913 and 223\n",
      "Found Match in 18079520 and 227\n",
      "Found Match in 18136762 and 232\n",
      "Found Match in 18161679 and 235\n",
      "Matches found:76\n",
      "Merging Complete\n"
     ]
    }
   ],
   "source": [
    "matches=0\n",
    "for i in range(len(cris_data[\"Crash_ID\"])):\n",
    "    date=[str(cris_data[\"Crash_Date\"][i]),str(cris_data[\"Crash_Date1\"][i]),str(cris_data[\"Crash_Date2\"][i]),str(cris_data[\"Crash_Date3\"][i]),str(cris_data[\"Crash_Date4\"][i]),str(cris_data[\"Crash_Date5\"][i]),str(cris_data[\"Crash_Date6\"][i])]\n",
    "    age=[int(cris_data[\"Prsn_Age\"][i])]\n",
    "    counter=0\n",
    "    for j in range(len(hospital_data[\"crash_id_hosp\"])):\n",
    "        if((str(hospital_data[\"Arrival\"][j]) in date) and (int(hospital_data[\"Gender\"][j])==int(cris_data[\"Prsn_Gndr_ID\"][i])) and (int(hospital_data[\"AGE\"][j]) in age)):#  and (int(hospital_data[\"prsn_ethnicity_id\"][j])==int(cris_data[\"Prsn_Ethnicity_ID\"][i]))): # and (int(hospital_data[\"AGE\"][j])==int(cris_data[\"Prsn_Age\"][i])) and (int(hospital_data[\"Zip Code\"][j][:5])==int(cris_data[\"Drvr_Zip\"][i]))\n",
    "            if(counter==0):\n",
    "                cris_data[\"crash_id_hosp\"][i]=str(hospital_data[\"crash_id_hosp\"][j])\n",
    "                print(\"Found Match in \"+str(cris_data[\"Crash_ID\"][i])+\" and \"+str(hospital_data[\"crash_id_hosp\"][j]))\n",
    "                counter=counter+1\n",
    "                matches=matches+1\n",
    "            else:\n",
    "                cris_data[\"crash_id_hosp\"][i]=str(cris_data[\"crash_id_hosp\"][i])+\" \"+str(hospital_data[\"crash_id_hosp\"][j])\n",
    "                print(\"Found another Match in \"+str(cris_data[\"Crash_ID\"][i])+\" and \"+str(hospital_data[\"crash_id_hosp\"][j]))\n",
    "                matches=matches+1\n",
    "print(f\"Matches found:{matches:.0f}\")\n",
    "print(\"Merging Complete\")        "
   ]
  },
  {
   "cell_type": "code",
   "execution_count": 45,
   "id": "0d282134",
   "metadata": {},
   "outputs": [],
   "source": [
    "cris_data.to_csv(\"cris-data-results-all-date7andgenderandage.csv\")"
   ]
  },
  {
   "cell_type": "code",
   "execution_count": null,
   "id": "5c7cb81d",
   "metadata": {},
   "outputs": [],
   "source": []
  }
 ],
 "metadata": {
  "kernelspec": {
   "display_name": "Python 3 (ipykernel)",
   "language": "python",
   "name": "python3"
  },
  "language_info": {
   "codemirror_mode": {
    "name": "ipython",
    "version": 3
   },
   "file_extension": ".py",
   "mimetype": "text/x-python",
   "name": "python",
   "nbconvert_exporter": "python",
   "pygments_lexer": "ipython3",
   "version": "3.9.7"
  }
 },
 "nbformat": 4,
 "nbformat_minor": 5
}
